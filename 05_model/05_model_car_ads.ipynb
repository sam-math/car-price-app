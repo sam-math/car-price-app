{
 "cells": [
  {
   "cell_type": "code",
   "execution_count": 1,
   "metadata": {},
   "outputs": [],
   "source": [
    "import pandas as pd\n",
    "import numpy as np\n",
    "\n",
    "from sklearn.model_selection import train_test_split\n",
    "\n",
    "from sklearn.preprocessing import PolynomialFeatures\n",
    "from sklearn.linear_model import LinearRegression\n",
    "\n",
    "from sklearn.ensemble import RandomForestRegressor\n",
    "from sklearn.svm import SVR\n",
    "from xgboost import XGBRegressor\n",
    "\n",
    "from sklearn.metrics import root_mean_squared_error, mean_absolute_error, mean_absolute_percentage_error\n",
    "import joblib"
   ]
  },
  {
   "cell_type": "code",
   "execution_count": 2,
   "metadata": {},
   "outputs": [],
   "source": [
    "df = pd.read_parquet('../04_EDA/car_ads_model.parquet')"
   ]
  },
  {
   "cell_type": "code",
   "execution_count": 3,
   "metadata": {},
   "outputs": [
    {
     "data": {
      "text/plain": [
       "(182826, 20)"
      ]
     },
     "execution_count": 3,
     "metadata": {},
     "output_type": "execute_result"
    }
   ],
   "source": [
    "df.shape"
   ]
  },
  {
   "cell_type": "code",
   "execution_count": 4,
   "metadata": {},
   "outputs": [],
   "source": [
    "# Function to apply polynomial regression and add predicted prices\n",
    "def reg_outliers(group):\n",
    "    # Independent variable (e.g., km)\n",
    "    X = group[['km']]\n",
    "    y = group['price']  # Dependent variable\n",
    "\n",
    "    # Polynomial transformation (degree 3)\n",
    "    poly = PolynomialFeatures(degree=3)\n",
    "    X_poly = poly.fit_transform(X)\n",
    "    \n",
    "    # Fit the linear regression model\n",
    "    model = LinearRegression()\n",
    "    model.fit(X_poly, y)\n",
    "    \n",
    "    # Make predictions\n",
    "    y_pred = model.predict(X_poly)\n",
    "    \n",
    "    # Assign the predicted price to a new column\n",
    "    group['reg_price'] = y_pred.astype(int)\n",
    "    \n",
    "    return group"
   ]
  },
  {
   "cell_type": "code",
   "execution_count": 5,
   "metadata": {},
   "outputs": [
    {
     "name": "stderr",
     "output_type": "stream",
     "text": [
      "C:\\Users\\samue\\AppData\\Local\\Temp\\ipykernel_23748\\909315548.py:2: DeprecationWarning: DataFrameGroupBy.apply operated on the grouping columns. This behavior is deprecated, and in a future version of pandas the grouping columns will be excluded from the operation. Either pass `include_groups=False` to exclude the groupings or explicitly select the grouping columns after groupby to silence this warning.\n",
      "  df = df.groupby(['brand', 'model']).apply(reg_outliers).reset_index(drop=True)\n"
     ]
    }
   ],
   "source": [
    "# Assuming 'df' is your original DataFrame\n",
    "df = df.groupby(['brand', 'model']).apply(reg_outliers).reset_index(drop=True)"
   ]
  },
  {
   "cell_type": "code",
   "execution_count": 6,
   "metadata": {},
   "outputs": [],
   "source": [
    "df['reg_diff_abs'] = (df['price'] - df['reg_price']).abs().astype(int)"
   ]
  },
  {
   "cell_type": "code",
   "execution_count": 7,
   "metadata": {},
   "outputs": [],
   "source": [
    "df = df[((df['reg_diff_abs'] / df['price']) < 1) | (df['reg_diff_abs'] < 7_000)].reset_index(drop=True)"
   ]
  },
  {
   "cell_type": "code",
   "execution_count": 9,
   "metadata": {},
   "outputs": [],
   "source": [
    "# Step 2: Lists to store results\n",
    "all_results = []\n",
    "performance_metrics = []"
   ]
  },
  {
   "cell_type": "code",
   "execution_count": 10,
   "metadata": {},
   "outputs": [],
   "source": [
    "# Function to encode 'cv' (horsepower) column\n",
    "def encode_cv(group):\n",
    "    # Drop null values and convert to int for categorical representation\n",
    "    non_null_cv = group['cv'].dropna().astype(int)\n",
    "\n",
    "    # Create categorical labels\n",
    "    categories = non_null_cv.unique()\n",
    "    cat_labels = [f'cv_{cat}' for cat in categories]\n",
    "\n",
    "    # Create a new DataFrame with one-hot encoding for existing categories\n",
    "    cv_encoded = pd.get_dummies(non_null_cv, prefix='', prefix_sep='', dtype=int)\n",
    "\n",
    "    # Rename columns to desired format\n",
    "    cv_encoded.columns = [f'cv_{col}' for col in cv_encoded.columns]\n",
    "\n",
    "    # Return the encoded DataFrame\n",
    "    return cv_encoded\n",
    "\n",
    "\n",
    "# Function to encode 'fuel' and other categorical variables\n",
    "def encode_categorical_features(group):\n",
    "    # One-hot encoding for 'fuel'\n",
    "    fuel_encoded = pd.get_dummies(group['fuel'], prefix='fuel')\n",
    "    cv_encoded = encode_cv(group)\n",
    "    # # Handle CV encoding if 'cv' is present\n",
    "    # if group['cv'].notnull().all():\n",
    "    #     cv_encoded = encode_cv(group)\n",
    "    # else:\n",
    "    #     cv_encoded = pd.DataFrame(index=group.index)  # Empty if no 'cv'\n",
    "    \n",
    "    # Combine encoded features\n",
    "    return pd.concat([fuel_encoded, cv_encoded], axis=1)\n",
    "\n",
    "# Function to select a model based on the number of samples\n",
    "def select_model(n_samples):\n",
    "    if n_samples < 30:\n",
    "        return SVR(kernel='poly', degree=3, C=0.2)  # L2 Regularization\n",
    "    elif n_samples < 2_000:\n",
    "        return XGBRegressor(n_estimators=500, learning_rate=0.05, max_depth=7)  # Tree-based regularization\n",
    "    else:\n",
    "        return RandomForestRegressor(n_estimators=500, max_depth=7)  # Tree-based with max depth\n",
    "\n",
    "\n",
    "# Function to choose and apply model\n",
    "def choose_model(group):\n",
    "    X = group[['km', 'age_years', 'is_automatic']]  # Base features\n",
    "    \n",
    "    # Encode categorical features (fuel and cv)\n",
    "    cat_encoded = encode_categorical_features(group)\n",
    "    X = pd.concat([X, cat_encoded], axis=1)\n",
    "\n",
    "    # Ensure that there are no NaN values in X\n",
    "    if X.isnull().values.any():\n",
    "        # You can choose to fill NaNs or drop them\n",
    "        X.fillna(0, inplace=True)  # Example: fill NaNs with 0\n",
    "        \n",
    "    # Get target variable\n",
    "    y = group['price']  # Target (Price)\n",
    "    n_samples = len(group)\n",
    "    \n",
    "    # If very few samples, predict the mean price\n",
    "    if n_samples < 5:\n",
    "        group['predicted_price'] = [group['price'].median()] * n_samples\n",
    "        group['price_diff'] = group['price'] - group['predicted_price']\n",
    "        rmse = root_mean_squared_error(y, group['predicted_price'])\n",
    "        mape = mean_absolute_percentage_error(y, group['predicted_price'])\n",
    "        mae = mean_absolute_error(y, group['predicted_price'])\n",
    "        performance_metrics.append({\n",
    "            'brand': group['brand'].iloc[0],\n",
    "            'model': group['model'].iloc[0],\n",
    "            'rmse': rmse,\n",
    "            'mape': mape,\n",
    "            'mae':mae\n",
    "        })\n",
    "        all_results.append(group)\n",
    "        return\n",
    "\n",
    "    # Train-test split logic\n",
    "    test_size = 0.3 if n_samples >= 40 else 0.4\n",
    "    X_train, X_test, y_train, y_test = train_test_split(X, y, test_size=test_size, random_state=42)\n",
    "\n",
    "    # Select the model based on dataset size\n",
    "    model = select_model(n_samples)\n",
    "    \n",
    "    # Train the model\n",
    "    model.fit(X_train, y_train)\n",
    "    \n",
    "    # Predicting on test set\n",
    "    y_pred_test = model.predict(X_test)\n",
    "    \n",
    "    # Train on the entire dataset to predict for all data\n",
    "    model.fit(X, y)\n",
    "    y_pred_all = model.predict(X)\n",
    "\n",
    "    # Save the trained model, feature names, and other metadata to disk\n",
    "    brand = group['brand'].iloc[0]\n",
    "    model_name = group['model'].iloc[0]\n",
    "    model_file_name = f'saved_models/{brand}_{model_name}.pkl'\n",
    "    \n",
    "    # Create a dictionary to store model, feature names, and any other metadata\n",
    "    model_info = {\n",
    "        'model': model,\n",
    "        'feature_names': X.columns.tolist(),  # Save the column names\n",
    "        'brand': brand,\n",
    "        'model_name': model_name,\n",
    "        'training_samples': n_samples  # Optional metadata\n",
    "    }\n",
    "    \n",
    "    # Save the model and additional info\n",
    "    joblib.dump(model_info, model_file_name)\n",
    "    \n",
    "    # Calculate performance metrics\n",
    "    rmse = root_mean_squared_error(y_test, y_pred_test)\n",
    "    mape = mean_absolute_percentage_error(y_test, y_pred_test) * 100\n",
    "    mae = mean_absolute_error(y_test, y_pred_test)\n",
    "    performance_metrics.append({\n",
    "        'brand': brand,\n",
    "        'model': model_name,\n",
    "        'rmse': round(rmse, 2),\n",
    "        'mape': round(mape, 2),\n",
    "        'mae': int(mae)\n",
    "    })\n",
    "\n",
    "    # Add predictions for all data points\n",
    "    group['predicted_price'] = y_pred_all\n",
    "    group['price_diff'] = group['price'] - group['predicted_price']\n",
    "    \n",
    "    all_results.append(group)\n"
   ]
  },
  {
   "cell_type": "code",
   "execution_count": 11,
   "metadata": {},
   "outputs": [
    {
     "name": "stderr",
     "output_type": "stream",
     "text": [
      "C:\\Users\\samue\\AppData\\Local\\Temp\\ipykernel_23748\\237710914.py:1: DeprecationWarning: DataFrameGroupBy.apply operated on the grouping columns. This behavior is deprecated, and in a future version of pandas the grouping columns will be excluded from the operation. Either pass `include_groups=False` to exclude the groupings or explicitly select the grouping columns after groupby to silence this warning.\n",
      "  df.groupby(['brand','model']).apply(choose_model, include_groups=True)\n"
     ]
    },
    {
     "data": {
      "text/html": [
       "<div>\n",
       "<style scoped>\n",
       "    .dataframe tbody tr th:only-of-type {\n",
       "        vertical-align: middle;\n",
       "    }\n",
       "\n",
       "    .dataframe tbody tr th {\n",
       "        vertical-align: top;\n",
       "    }\n",
       "\n",
       "    .dataframe thead th {\n",
       "        text-align: right;\n",
       "    }\n",
       "</style>\n",
       "<table border=\"1\" class=\"dataframe\">\n",
       "  <thead>\n",
       "    <tr style=\"text-align: right;\">\n",
       "      <th></th>\n",
       "    </tr>\n",
       "  </thead>\n",
       "  <tbody>\n",
       "  </tbody>\n",
       "</table>\n",
       "</div>"
      ],
      "text/plain": [
       "Empty DataFrame\n",
       "Columns: []\n",
       "Index: []"
      ]
     },
     "execution_count": 11,
     "metadata": {},
     "output_type": "execute_result"
    }
   ],
   "source": [
    "df.groupby(['brand','model']).apply(choose_model, include_groups=True)"
   ]
  },
  {
   "cell_type": "code",
   "execution_count": 12,
   "metadata": {},
   "outputs": [],
   "source": [
    "results_df = pd.DataFrame(performance_metrics)  # Model performance metrics\n",
    "final_results_df = pd.concat(all_results, ignore_index=True)  # Test data with predictions and price diff"
   ]
  },
  {
   "cell_type": "code",
   "execution_count": 13,
   "metadata": {},
   "outputs": [],
   "source": [
    "final_cols_order = ['price','predicted_price', 'price_diff', 'brand', 'model', 'is_automatic','km', 'fuel',\n",
    "                    'year', 'age_years', 'cv', 'kw', 'body_type', 'cubic_capacity', 'is_seller_pro','is_certified', 'offer_type',\n",
    "                    'location', 'ad_days_creation', 'ad_days_published', 'title']"
   ]
  },
  {
   "cell_type": "code",
   "execution_count": 14,
   "metadata": {},
   "outputs": [],
   "source": [
    "final_results_df = final_results_df[final_cols_order]\n",
    "\n",
    "numeric_cols_list = final_results_df.select_dtypes(include='number').columns.values\n",
    "final_results_df[numeric_cols_list] =  final_results_df[numeric_cols_list].round(0).astype('Int32')"
   ]
  },
  {
   "cell_type": "code",
   "execution_count": 15,
   "metadata": {},
   "outputs": [
    {
     "data": {
      "text/plain": [
       "count            1202\n",
       "mean        137961955\n",
       "std        4782989627\n",
       "min                 0\n",
       "0%                  0\n",
       "10%               250\n",
       "20%              1126\n",
       "30%              1500\n",
       "40%              1810\n",
       "50%              2293\n",
       "60%              2985\n",
       "70%              3859\n",
       "80%              5458\n",
       "90%              8953\n",
       "100%     165825640328\n",
       "max      165825640328\n",
       "Name: rmse, dtype: int64"
      ]
     },
     "execution_count": 15,
     "metadata": {},
     "output_type": "execute_result"
    }
   ],
   "source": [
    "results_df['rmse'].describe(percentiles=np.arange(0,1.1,0.1)).astype(int)"
   ]
  },
  {
   "cell_type": "code",
   "execution_count": 16,
   "metadata": {},
   "outputs": [
    {
     "data": {
      "text/plain": [
       "count    177440\n",
       "mean        712\n",
       "std        1870\n",
       "min           0\n",
       "0%            0\n",
       "10%           2\n",
       "20%          16\n",
       "30%          45\n",
       "40%          96\n",
       "50%         180\n",
       "60%         314\n",
       "70%         537\n",
       "80%         924\n",
       "90%        1754\n",
       "100%      98815\n",
       "max       98815\n",
       "Name: price_diff, dtype: int64"
      ]
     },
     "execution_count": 16,
     "metadata": {},
     "output_type": "execute_result"
    }
   ],
   "source": [
    "final_results_df['price_diff'].abs().describe(percentiles=np.arange(0,1.1,0.1)).astype(int)"
   ]
  },
  {
   "cell_type": "code",
   "execution_count": 17,
   "metadata": {},
   "outputs": [],
   "source": [
    "overall_accuracy = (100 * (1- mean_absolute_percentage_error(final_results_df['price'], final_results_df['predicted_price']))).round(2)"
   ]
  },
  {
   "cell_type": "code",
   "execution_count": 18,
   "metadata": {},
   "outputs": [
    {
     "data": {
      "text/plain": [
       "'Model overall accuracy: 93.12%'"
      ]
     },
     "execution_count": 18,
     "metadata": {},
     "output_type": "execute_result"
    }
   ],
   "source": [
    "f\"Model overall accuracy: {overall_accuracy}%\""
   ]
  },
  {
   "cell_type": "code",
   "execution_count": 19,
   "metadata": {},
   "outputs": [],
   "source": [
    "overall_error = mean_absolute_error(final_results_df['price'], final_results_df['predicted_price']).astype(int)"
   ]
  },
  {
   "cell_type": "code",
   "execution_count": 20,
   "metadata": {},
   "outputs": [
    {
     "data": {
      "text/plain": [
       "'Model overall price-vs-prediction difference: 712€'"
      ]
     },
     "execution_count": 20,
     "metadata": {},
     "output_type": "execute_result"
    }
   ],
   "source": [
    "f\"Model overall price-vs-prediction difference: {overall_error}€\""
   ]
  },
  {
   "cell_type": "code",
   "execution_count": 21,
   "metadata": {},
   "outputs": [
    {
     "data": {
      "text/plain": [
       "np.int64(2001)"
      ]
     },
     "execution_count": 21,
     "metadata": {},
     "output_type": "execute_result"
    }
   ],
   "source": [
    "root_mean_squared_error(final_results_df['price'], final_results_df['predicted_price']).astype(int)"
   ]
  },
  {
   "cell_type": "code",
   "execution_count": 22,
   "metadata": {},
   "outputs": [],
   "source": [
    "performance_df = pd.DataFrame(performance_metrics)"
   ]
  },
  {
   "cell_type": "code",
   "execution_count": 23,
   "metadata": {},
   "outputs": [],
   "source": [
    "# Save performance metrics to CSV\n",
    "performance_df.to_csv('../app/app_files/performance_metrics.csv', index=False)"
   ]
  },
  {
   "cell_type": "code",
   "execution_count": 24,
   "metadata": {},
   "outputs": [],
   "source": [
    "final_results_df.to_csv('../app/app_files/final_results_df.csv', index=False)"
   ]
  },
  {
   "cell_type": "code",
   "execution_count": 25,
   "metadata": {},
   "outputs": [],
   "source": [
    "final_results_df = pd.read_csv('../app/app_files/final_results_df.csv')"
   ]
  },
  {
   "cell_type": "code",
   "execution_count": 26,
   "metadata": {},
   "outputs": [],
   "source": [
    "performance_df = pd.read_csv('../app/app_files/performance_metrics.csv')"
   ]
  }
 ],
 "metadata": {
  "kernelspec": {
   "display_name": "venv",
   "language": "python",
   "name": "python3"
  },
  "language_info": {
   "codemirror_mode": {
    "name": "ipython",
    "version": 3
   },
   "file_extension": ".py",
   "mimetype": "text/x-python",
   "name": "python",
   "nbconvert_exporter": "python",
   "pygments_lexer": "ipython3",
   "version": "3.12.4"
  }
 },
 "nbformat": 4,
 "nbformat_minor": 2
}
