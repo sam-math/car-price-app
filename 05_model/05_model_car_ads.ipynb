{
 "cells": [
  {
   "cell_type": "code",
   "execution_count": 1,
   "metadata": {},
   "outputs": [],
   "source": [
    "import pandas as pd\n",
    "import numpy as np\n",
    "\n",
    "from sklearn.model_selection import train_test_split\n",
    "\n",
    "from sklearn.ensemble import RandomForestRegressor\n",
    "from sklearn.svm import SVR\n",
    "from xgboost import XGBRegressor\n",
    "\n",
    "from sklearn.metrics import root_mean_squared_error, mean_absolute_error, mean_absolute_percentage_error\n",
    "import joblib"
   ]
  },
  {
   "cell_type": "code",
   "execution_count": 2,
   "metadata": {},
   "outputs": [],
   "source": [
    "df = pd.read_parquet('../04_EDA/car_ads_model.parquet')"
   ]
  },
  {
   "cell_type": "code",
   "execution_count": 3,
   "metadata": {},
   "outputs": [
    {
     "data": {
      "text/plain": [
       "(182826, 20)"
      ]
     },
     "execution_count": 3,
     "metadata": {},
     "output_type": "execute_result"
    }
   ],
   "source": [
    "df.shape"
   ]
  },
  {
   "cell_type": "code",
   "execution_count": 4,
   "metadata": {},
   "outputs": [],
   "source": [
    "model_counts = df[['brand','model']].value_counts().reset_index()"
   ]
  },
  {
   "cell_type": "code",
   "execution_count": 6,
   "metadata": {},
   "outputs": [],
   "source": [
    "filtered_models = model_counts[model_counts['count'] > 20][['brand','model']]"
   ]
  },
  {
   "cell_type": "code",
   "execution_count": 8,
   "metadata": {},
   "outputs": [],
   "source": [
    "df = df.merge(filtered_models, how='inner', on=['brand','model'])"
   ]
  },
  {
   "cell_type": "code",
   "execution_count": 9,
   "metadata": {},
   "outputs": [
    {
     "data": {
      "text/plain": [
       "(178897, 20)"
      ]
     },
     "execution_count": 9,
     "metadata": {},
     "output_type": "execute_result"
    }
   ],
   "source": [
    "df.shape"
   ]
  },
  {
   "cell_type": "code",
   "execution_count": 10,
   "metadata": {},
   "outputs": [],
   "source": [
    "# Step 2: Lists to store results\n",
    "all_results = []\n",
    "performance_metrics = []"
   ]
  },
  {
   "cell_type": "code",
   "execution_count": 22,
   "metadata": {},
   "outputs": [],
   "source": [
    "# Function to encode 'cv' (horsepower) column\n",
    "def encode_cv(group, max_unique_cv=5):\n",
    "    if group['cv'].nunique() <= max_unique_cv:\n",
    "        # One-hot encoding if the number of unique 'cv' values is small\n",
    "        return pd.get_dummies(group['cv'], prefix='cv')\n",
    "    else:\n",
    "        # Bin and label-encode if there are too many unique values\n",
    "        bins = pd.qcut(group['cv'], q=5, duplicates='drop', labels=False)  # Adjust 'q' for the number of bins\n",
    "        return bins\n",
    "\n",
    "# Function to encode 'fuel' and other categorical variables\n",
    "def encode_categorical_features(group):\n",
    "    # One-hot encoding for 'fuel'\n",
    "    fuel_encoded = pd.get_dummies(group['fuel'], prefix='fuel')\n",
    "    \n",
    "    # Handle CV encoding if 'cv' is present\n",
    "    if group['cv'].notnull().all():\n",
    "        cv_encoded = encode_cv(group)\n",
    "    else:\n",
    "        cv_encoded = pd.DataFrame(index=group.index)  # Empty if no 'cv'\n",
    "    \n",
    "    # Combine encoded features\n",
    "    return pd.concat([fuel_encoded, cv_encoded], axis=1)\n",
    "\n",
    "# Function to select a model based on the number of samples\n",
    "def select_model(n_samples):\n",
    "    if n_samples < 30:\n",
    "        return SVR(kernel='poly', degree=2, C=0.2)  # L2 Regularization\n",
    "    elif n_samples < 2_000:\n",
    "        return XGBRegressor(n_estimators=500, learning_rate=0.05, max_depth=7)  # Tree-based regularization\n",
    "    else:\n",
    "        return RandomForestRegressor(n_estimators=500, max_depth=7)  # Tree-based with max depth\n",
    "\n",
    "# Function to choose and apply model\n",
    "def choose_model(group):\n",
    "    X = group[['km', 'age_years', 'is_automatic']]  # Base features\n",
    "    \n",
    "    # Encode categorical features (fuel and cv)\n",
    "    cat_encoded = encode_categorical_features(group)\n",
    "    X = pd.concat([X, cat_encoded], axis=1)\n",
    "\n",
    "    y = group['price']  # Target (Price)\n",
    "    n_samples = len(group)\n",
    "    \n",
    "    # If very few samples, predict the median price\n",
    "    if n_samples < 5:\n",
    "        group['predicted_price'] = [group['price'].median()] * n_samples\n",
    "        group['price_diff'] = group['price'] - group['predicted_price']\n",
    "        rmse = root_mean_squared_error(y, group['predicted_price'])\n",
    "        mape = mean_absolute_percentage_error(y, group['predicted_price'])\n",
    "        performance_metrics.append({\n",
    "            'brand': group['brand'].iloc[0],\n",
    "            'model': group['model'].iloc[0],\n",
    "            'rmse': rmse,\n",
    "            'mape': mape\n",
    "        })\n",
    "        all_results.append(group)\n",
    "        return\n",
    "\n",
    "    # Train-test split logic\n",
    "    test_size = 0.3 if n_samples >= 40 else 0.4\n",
    "    X_train, X_test, y_train, y_test = train_test_split(X, y, test_size=test_size, random_state=42)\n",
    "\n",
    "    # Select the model based on dataset size\n",
    "    model = select_model(n_samples)\n",
    "    \n",
    "    # Train the model\n",
    "    model.fit(X_train, y_train)\n",
    "    \n",
    "    # Predicting on test set\n",
    "    y_pred_test = model.predict(X_test)\n",
    "    \n",
    "    # Train on the entire dataset to predict for all data\n",
    "    model.fit(X, y)\n",
    "    y_pred_all = model.predict(X)\n",
    "\n",
    "    # Save the trained model to disk\n",
    "    brand = group['brand'].iloc[0]\n",
    "    model_name = group['model'].iloc[0]\n",
    "    model_file_name = f'saved_models/{brand}_{model_name}.pkl'\n",
    "    joblib.dump(model, model_file_name)\n",
    "    \n",
    "    # Calculate performance metrics\n",
    "    rmse = root_mean_squared_error(y_test, y_pred_test)\n",
    "    mape = mean_absolute_percentage_error(y_test, y_pred_test) * 100\n",
    "    performance_metrics.append({\n",
    "        'brand': brand,\n",
    "        'model': model_name,\n",
    "        'rmse': round(rmse, 2),\n",
    "        'mape': round(mape, 2)\n",
    "    })\n",
    "\n",
    "    # Add predictions for all data points\n",
    "    group['predicted_price'] = y_pred_all\n",
    "    group['price_diff'] = group['price'] - group['predicted_price']\n",
    "    \n",
    "    all_results.append(group)"
   ]
  },
  {
   "cell_type": "code",
   "execution_count": 23,
   "metadata": {},
   "outputs": [
    {
     "name": "stderr",
     "output_type": "stream",
     "text": [
      "C:\\Users\\samue\\AppData\\Local\\Temp\\ipykernel_8652\\1134254477.py:2: DeprecationWarning: DataFrameGroupBy.apply operated on the grouping columns. This behavior is deprecated, and in a future version of pandas the grouping columns will be excluded from the operation. Either pass `include_groups=False` to exclude the groupings or explicitly select the grouping columns after groupby to silence this warning.\n",
      "  df.groupby(['brand', 'model']).apply(choose_model, include_groups=True)\n"
     ]
    },
    {
     "data": {
      "text/html": [
       "<div>\n",
       "<style scoped>\n",
       "    .dataframe tbody tr th:only-of-type {\n",
       "        vertical-align: middle;\n",
       "    }\n",
       "\n",
       "    .dataframe tbody tr th {\n",
       "        vertical-align: top;\n",
       "    }\n",
       "\n",
       "    .dataframe thead th {\n",
       "        text-align: right;\n",
       "    }\n",
       "</style>\n",
       "<table border=\"1\" class=\"dataframe\">\n",
       "  <thead>\n",
       "    <tr style=\"text-align: right;\">\n",
       "      <th></th>\n",
       "    </tr>\n",
       "  </thead>\n",
       "  <tbody>\n",
       "  </tbody>\n",
       "</table>\n",
       "</div>"
      ],
      "text/plain": [
       "Empty DataFrame\n",
       "Columns: []\n",
       "Index: []"
      ]
     },
     "execution_count": 23,
     "metadata": {},
     "output_type": "execute_result"
    }
   ],
   "source": [
    "# Apply the function to each group of brand-model\n",
    "df.groupby(['brand', 'model']).apply(choose_model, include_groups=True)"
   ]
  },
  {
   "cell_type": "code",
   "execution_count": 24,
   "metadata": {},
   "outputs": [],
   "source": [
    "results_df = pd.DataFrame(performance_metrics)  # Model performance metrics\n",
    "final_results_df = pd.concat(all_results, ignore_index=True)  # Test data with predictions and price diff"
   ]
  },
  {
   "cell_type": "code",
   "execution_count": 25,
   "metadata": {},
   "outputs": [],
   "source": [
    "final_cols_order = ['price','predicted_price', 'price_diff', 'brand', 'model', 'is_automatic','km', 'fuel',\n",
    "                    'year', 'age_years', 'cv', 'kw', 'body_type', 'cubic_capacity', 'is_seller_pro','is_certified', 'offer_type',\n",
    "                    'location', 'ad_days_creation', 'ad_days_published', 'title']"
   ]
  },
  {
   "cell_type": "code",
   "execution_count": 26,
   "metadata": {},
   "outputs": [],
   "source": [
    "final_results_df = final_results_df[final_cols_order]\n",
    "\n",
    "numeric_cols_list = final_results_df.select_dtypes(include='number').columns.values\n",
    "final_results_df[numeric_cols_list] =  final_results_df[numeric_cols_list].round(0).astype('Int32')\n"
   ]
  },
  {
   "cell_type": "code",
   "execution_count": 27,
   "metadata": {},
   "outputs": [
    {
     "data": {
      "text/plain": [
       "count     1240\n",
       "mean      3938\n",
       "std       3572\n",
       "min        456\n",
       "0%         456\n",
       "10%       1273\n",
       "20%       1528\n",
       "30%       1845\n",
       "40%       2197\n",
       "50%       2764\n",
       "60%       3324\n",
       "70%       4103\n",
       "80%       5782\n",
       "90%       8500\n",
       "100%     29857\n",
       "max      29857\n",
       "Name: rmse, dtype: int64"
      ]
     },
     "execution_count": 27,
     "metadata": {},
     "output_type": "execute_result"
    }
   ],
   "source": [
    "results_df['rmse'].describe(percentiles=np.arange(0,1.1,0.1)).astype(int)"
   ]
  },
  {
   "cell_type": "code",
   "execution_count": 28,
   "metadata": {},
   "outputs": [
    {
     "data": {
      "text/plain": [
       "count    357794\n",
       "mean        760\n",
       "std        1751\n",
       "min           0\n",
       "0%            0\n",
       "10%           3\n",
       "20%          19\n",
       "30%          52\n",
       "40%         110\n",
       "50%         206\n",
       "60%         357\n",
       "70%         603\n",
       "80%        1032\n",
       "90%        1955\n",
       "100%      88805\n",
       "max       88805\n",
       "Name: price_diff, dtype: int64"
      ]
     },
     "execution_count": 28,
     "metadata": {},
     "output_type": "execute_result"
    }
   ],
   "source": [
    "final_results_df['price_diff'].abs().describe(percentiles=np.arange(0,1.1,0.1)).astype(int)"
   ]
  },
  {
   "cell_type": "code",
   "execution_count": 29,
   "metadata": {},
   "outputs": [],
   "source": [
    "overall_accuracy = (100 * (1- mean_absolute_percentage_error(final_results_df['price'], final_results_df['predicted_price']))).round(2)"
   ]
  },
  {
   "cell_type": "code",
   "execution_count": 30,
   "metadata": {},
   "outputs": [
    {
     "data": {
      "text/plain": [
       "'Model overall accuracy: 92.37%'"
      ]
     },
     "execution_count": 30,
     "metadata": {},
     "output_type": "execute_result"
    }
   ],
   "source": [
    "f\"Model overall accuracy: {overall_accuracy}%\""
   ]
  },
  {
   "cell_type": "code",
   "execution_count": 31,
   "metadata": {},
   "outputs": [],
   "source": [
    "overall_error = mean_absolute_error(final_results_df['price'], final_results_df['predicted_price']).astype(int)"
   ]
  },
  {
   "cell_type": "code",
   "execution_count": 32,
   "metadata": {},
   "outputs": [
    {
     "data": {
      "text/plain": [
       "'Model overall price-vs-prediction difference: 760€'"
      ]
     },
     "execution_count": 32,
     "metadata": {},
     "output_type": "execute_result"
    }
   ],
   "source": [
    "f\"Model overall price-vs-prediction difference: {overall_error}€\""
   ]
  },
  {
   "cell_type": "code",
   "execution_count": 194,
   "metadata": {},
   "outputs": [
    {
     "data": {
      "text/plain": [
       "2215"
      ]
     },
     "execution_count": 194,
     "metadata": {},
     "output_type": "execute_result"
    }
   ],
   "source": [
    "root_mean_squared_error(final_results_df['price'], final_results_df['predicted_price']).astype(int)"
   ]
  },
  {
   "cell_type": "code",
   "execution_count": 181,
   "metadata": {},
   "outputs": [],
   "source": [
    "# Save performance metrics to CSV\n",
    "performance_df = pd.DataFrame(performance_metrics)\n",
    "performance_df.to_csv('../06_app/app_files/performance_metrics.csv', index=False)"
   ]
  },
  {
   "cell_type": "code",
   "execution_count": 4,
   "metadata": {},
   "outputs": [],
   "source": [
    "final_results_df.to_csv('../06_app/app_files/final_results_df.csv', index=False)"
   ]
  },
  {
   "cell_type": "code",
   "execution_count": 3,
   "metadata": {},
   "outputs": [],
   "source": [
    "final_results_df = pd.read_csv('../06_app/app_files/final_results_df.csv')"
   ]
  },
  {
   "cell_type": "code",
   "execution_count": 184,
   "metadata": {},
   "outputs": [],
   "source": [
    "performance_df = pd.read_csv('../06_app/app_files/performance_metrics.csv')"
   ]
  },
  {
   "cell_type": "code",
   "execution_count": null,
   "metadata": {},
   "outputs": [],
   "source": []
  }
 ],
 "metadata": {
  "kernelspec": {
   "display_name": "venv",
   "language": "python",
   "name": "python3"
  },
  "language_info": {
   "codemirror_mode": {
    "name": "ipython",
    "version": 3
   },
   "file_extension": ".py",
   "mimetype": "text/x-python",
   "name": "python",
   "nbconvert_exporter": "python",
   "pygments_lexer": "ipython3",
   "version": "3.12.4"
  }
 },
 "nbformat": 4,
 "nbformat_minor": 2
}
