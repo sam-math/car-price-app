{
 "cells": [
  {
   "cell_type": "code",
   "execution_count": 34,
   "metadata": {},
   "outputs": [],
   "source": [
    "import pandas as pd\n",
    "import numpy as np\n",
    "\n",
    "from sklearn.model_selection import train_test_split\n",
    "\n",
    "from sklearn.ensemble import RandomForestRegressor\n",
    "from sklearn.svm import SVR\n",
    "from xgboost import XGBRegressor\n",
    "\n",
    "from sklearn.metrics import root_mean_squared_error, mean_absolute_error, mean_absolute_percentage_error\n",
    "import joblib"
   ]
  },
  {
   "cell_type": "code",
   "execution_count": 35,
   "metadata": {},
   "outputs": [],
   "source": [
    "df = pd.read_parquet('../04_EDA/car_ads_model.parquet')"
   ]
  },
  {
   "cell_type": "code",
   "execution_count": 23,
   "metadata": {},
   "outputs": [
    {
     "data": {
      "text/plain": [
       "(182826, 20)"
      ]
     },
     "execution_count": 23,
     "metadata": {},
     "output_type": "execute_result"
    }
   ],
   "source": [
    "df.shape"
   ]
  },
  {
   "cell_type": "code",
   "execution_count": 24,
   "metadata": {},
   "outputs": [],
   "source": [
    "# Step 2: Lists to store results\n",
    "all_results = []\n",
    "performance_metrics = []"
   ]
  },
  {
   "cell_type": "code",
   "execution_count": 25,
   "metadata": {},
   "outputs": [],
   "source": [
    "# Function to encode 'cv' (horsepower) column\n",
    "def encode_cv(group, max_unique_cv=5):\n",
    "    if group['cv'].nunique() <= max_unique_cv:\n",
    "        # One-hot encoding if the number of unique 'cv' values is small\n",
    "        return pd.get_dummies(group['cv'], prefix='cv')\n",
    "    else:\n",
    "        # Bin and label-encode if there are too many unique values\n",
    "        bins = pd.qcut(group['cv'], q=5, duplicates='drop', labels=False)  # Adjust 'q' for the number of bins\n",
    "        return bins\n",
    "\n",
    "# Function to encode 'fuel' and other categorical variables\n",
    "def encode_categorical_features(group):\n",
    "    # One-hot encoding for 'fuel'\n",
    "    fuel_encoded = pd.get_dummies(group['fuel'], prefix='fuel')\n",
    "    \n",
    "    # Handle CV encoding if 'cv' is present\n",
    "    if group['cv'].notnull().all():\n",
    "        cv_encoded = encode_cv(group)\n",
    "    else:\n",
    "        cv_encoded = pd.DataFrame(index=group.index)  # Empty if no 'cv'\n",
    "    \n",
    "    # Combine encoded features\n",
    "    return pd.concat([fuel_encoded, cv_encoded], axis=1)\n",
    "\n",
    "# Function to select a model based on the number of samples\n",
    "def select_model(n_samples):\n",
    "    if n_samples < 30:\n",
    "        return SVR(kernel='poly', degree=3, C=0.2)  # L2 Regularization\n",
    "    elif n_samples < 2_000:\n",
    "        return XGBRegressor(n_estimators=500, learning_rate=0.05, max_depth=7)  # Tree-based regularization\n",
    "    else:\n",
    "        return RandomForestRegressor(n_estimators=500, max_depth=7)  # Tree-based with max depth\n",
    "\n",
    "# Function to choose and apply model\n",
    "def choose_model(group):\n",
    "    X = group[['km', 'age_years', 'is_automatic']]  # Base features\n",
    "    \n",
    "    # Encode categorical features (fuel and cv)\n",
    "    cat_encoded = encode_categorical_features(group)\n",
    "    X = pd.concat([X, cat_encoded], axis=1)\n",
    "\n",
    "    y = group['price']  # Target (Price)\n",
    "    n_samples = len(group)\n",
    "    \n",
    "    # If very few samples, predict the mean price\n",
    "    if n_samples < 5:\n",
    "        group['predicted_price'] = [group['price'].mean()] * n_samples\n",
    "        group['price_diff'] = group['price'] - group['predicted_price']\n",
    "        rmse = root_mean_squared_error(y, group['predicted_price'])\n",
    "        mape = mean_absolute_percentage_error(y, group['predicted_price'])\n",
    "        performance_metrics.append({\n",
    "            'brand': group['brand'].iloc[0],\n",
    "            'model': group['model'].iloc[0],\n",
    "            'rmse': rmse,\n",
    "            'mape': mape\n",
    "        })\n",
    "        all_results.append(group)\n",
    "        return\n",
    "\n",
    "    # Train-test split logic\n",
    "    test_size = 0.3 if n_samples >= 40 else 0.4\n",
    "    X_train, X_test, y_train, y_test = train_test_split(X, y, test_size=test_size, random_state=42)\n",
    "\n",
    "    # Select the model based on dataset size\n",
    "    model = select_model(n_samples)\n",
    "    \n",
    "    # Train the model\n",
    "    model.fit(X_train, y_train)\n",
    "    \n",
    "    # Predicting on test set\n",
    "    y_pred_test = model.predict(X_test)\n",
    "    \n",
    "    # Train on the entire dataset to predict for all data\n",
    "    model.fit(X, y)\n",
    "    y_pred_all = model.predict(X)\n",
    "\n",
    "    # Save the trained model to disk\n",
    "    brand = group['brand'].iloc[0]\n",
    "    model_name = group['model'].iloc[0]\n",
    "    model_file_name = f'saved_models/{brand}_{model_name}.pkl'\n",
    "    joblib.dump(model, model_file_name)\n",
    "    \n",
    "    # Calculate performance metrics\n",
    "    rmse = root_mean_squared_error(y_test, y_pred_test)\n",
    "    mape = mean_absolute_percentage_error(y_test, y_pred_test) * 100\n",
    "    performance_metrics.append({\n",
    "        'brand': brand,\n",
    "        'model': model_name,\n",
    "        'rmse': round(rmse, 2),\n",
    "        'mape': round(mape, 2)\n",
    "    })\n",
    "\n",
    "    # Add predictions for all data points\n",
    "    group['predicted_price'] = y_pred_all\n",
    "    group['price_diff'] = group['price'] - group['predicted_price']\n",
    "    \n",
    "    all_results.append(group)"
   ]
  },
  {
   "cell_type": "code",
   "execution_count": 171,
   "metadata": {},
   "outputs": [],
   "source": [
    "results_df = pd.DataFrame(performance_metrics)  # Model performance metrics\n",
    "final_results_df = pd.concat(all_results, ignore_index=True)  # Test data with predictions and price diff"
   ]
  },
  {
   "cell_type": "code",
   "execution_count": 172,
   "metadata": {},
   "outputs": [],
   "source": [
    "final_cols_order = ['price','predicted_price', 'price_diff', 'brand', 'model', 'is_automatic','km', 'fuel',\n",
    "                    'year', 'age_years', 'cv', 'kw', 'body_type', 'cubic_capacity', 'is_seller_pro','is_certified', 'offer_type',\n",
    "                    'location', 'ad_days_creation', 'ad_days_published', 'title']"
   ]
  },
  {
   "cell_type": "code",
   "execution_count": 173,
   "metadata": {},
   "outputs": [],
   "source": [
    "final_results_df = final_results_df[final_cols_order]\n",
    "\n",
    "numeric_cols_list = final_results_df.select_dtypes(include='number').columns.values\n",
    "final_results_df[numeric_cols_list] =  final_results_df[numeric_cols_list].round(0).astype('Int32')\n"
   ]
  },
  {
   "cell_type": "code",
   "execution_count": 174,
   "metadata": {},
   "outputs": [
    {
     "data": {
      "text/plain": [
       "count          1202\n",
       "mean      137962126\n",
       "std     -2147483648\n",
       "min               0\n",
       "0%                0\n",
       "10%             250\n",
       "20%            1131\n",
       "30%            1504\n",
       "40%            1909\n",
       "50%            2409\n",
       "60%            3147\n",
       "70%            4051\n",
       "80%            5831\n",
       "90%            9224\n",
       "100%    -2147483648\n",
       "max     -2147483648\n",
       "Name: rmse, dtype: int32"
      ]
     },
     "execution_count": 174,
     "metadata": {},
     "output_type": "execute_result"
    }
   ],
   "source": [
    "results_df['rmse'].describe(percentiles=np.arange(0,1.1,0.1)).astype(int)"
   ]
  },
  {
   "cell_type": "code",
   "execution_count": 175,
   "metadata": {},
   "outputs": [
    {
     "data": {
      "text/plain": [
       "count    182826\n",
       "mean        824\n",
       "std        2056\n",
       "min           0\n",
       "0%            0\n",
       "10%           3\n",
       "20%          19\n",
       "30%          54\n",
       "40%         114\n",
       "50%         214\n",
       "60%         373\n",
       "70%         633\n",
       "80%        1083\n",
       "90%        2054\n",
       "100%      98815\n",
       "max       98815\n",
       "Name: price_diff, dtype: int32"
      ]
     },
     "execution_count": 175,
     "metadata": {},
     "output_type": "execute_result"
    }
   ],
   "source": [
    "final_results_df['price_diff'].abs().describe(percentiles=np.arange(0,1.1,0.1)).astype(int)"
   ]
  },
  {
   "cell_type": "code",
   "execution_count": 190,
   "metadata": {},
   "outputs": [],
   "source": [
    "overall_accuracy = (100 * (1- mean_absolute_percentage_error(final_results_df['price'], final_results_df['predicted_price']))).round(2)"
   ]
  },
  {
   "cell_type": "code",
   "execution_count": 191,
   "metadata": {},
   "outputs": [
    {
     "data": {
      "text/plain": [
       "'Model overall accuracy: 91.32%'"
      ]
     },
     "execution_count": 191,
     "metadata": {},
     "output_type": "execute_result"
    }
   ],
   "source": [
    "f\"Model overall accuracy: {overall_accuracy}%\""
   ]
  },
  {
   "cell_type": "code",
   "execution_count": 192,
   "metadata": {},
   "outputs": [],
   "source": [
    "overall_error = mean_absolute_error(final_results_df['price'], final_results_df['predicted_price']).astype(int)"
   ]
  },
  {
   "cell_type": "code",
   "execution_count": 193,
   "metadata": {},
   "outputs": [
    {
     "data": {
      "text/plain": [
       "'Model overall price-vs-prediction difference: 824€'"
      ]
     },
     "execution_count": 193,
     "metadata": {},
     "output_type": "execute_result"
    }
   ],
   "source": [
    "f\"Model overall price-vs-prediction difference: {overall_error}€\""
   ]
  },
  {
   "cell_type": "code",
   "execution_count": 194,
   "metadata": {},
   "outputs": [
    {
     "data": {
      "text/plain": [
       "2215"
      ]
     },
     "execution_count": 194,
     "metadata": {},
     "output_type": "execute_result"
    }
   ],
   "source": [
    "root_mean_squared_error(final_results_df['price'], final_results_df['predicted_price']).astype(int)"
   ]
  },
  {
   "cell_type": "code",
   "execution_count": 181,
   "metadata": {},
   "outputs": [],
   "source": [
    "# Save performance metrics to CSV\n",
    "performance_df = pd.DataFrame(performance_metrics)\n",
    "performance_df.to_csv('../app/app_files/performance_metrics.csv', index=False)"
   ]
  },
  {
   "cell_type": "code",
   "execution_count": 4,
   "metadata": {},
   "outputs": [],
   "source": [
    "final_results_df.to_csv('../app/app_files/final_results_df.csv', index=False)"
   ]
  },
  {
   "cell_type": "code",
   "execution_count": 3,
   "metadata": {},
   "outputs": [],
   "source": [
    "final_results_df = pd.read_csv('../app/app_files/final_results_df.csv')"
   ]
  },
  {
   "cell_type": "code",
   "execution_count": 184,
   "metadata": {},
   "outputs": [],
   "source": [
    "performance_df = pd.read_csv('../app/app_files/performance_metrics.csv')"
   ]
  },
  {
   "cell_type": "code",
   "execution_count": null,
   "metadata": {},
   "outputs": [],
   "source": []
  }
 ],
 "metadata": {
  "kernelspec": {
   "display_name": "venv",
   "language": "python",
   "name": "python3"
  },
  "language_info": {
   "codemirror_mode": {
    "name": "ipython",
    "version": 3
   },
   "file_extension": ".py",
   "mimetype": "text/x-python",
   "name": "python",
   "nbconvert_exporter": "python",
   "pygments_lexer": "ipython3",
   "version": "3.12.4"
  }
 },
 "nbformat": 4,
 "nbformat_minor": 2
}
