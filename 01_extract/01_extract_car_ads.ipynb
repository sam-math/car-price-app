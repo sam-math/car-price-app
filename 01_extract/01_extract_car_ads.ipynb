{
 "cells": [
  {
   "cell_type": "code",
   "execution_count": 1,
   "metadata": {},
   "outputs": [],
   "source": [
    "import requests\n",
    "import json\n",
    "import random\n",
    "import time\n",
    "from pathlib import Path"
   ]
  },
  {
   "cell_type": "code",
   "execution_count": 3,
   "metadata": {},
   "outputs": [],
   "source": [
    "def load_config():\n",
    "    config_path = Path('config_extract.json')\n",
    "    if config_path.exists():\n",
    "        with open(config_path) as f:\n",
    "            return json.load(f)\n",
    "    else:\n",
    "        raise FileNotFoundError(\"Config file not found. Ensure 'config_extract.json' is present and correctly configured.\")\n"
   ]
  },
  {
   "cell_type": "code",
   "execution_count": 4,
   "metadata": {},
   "outputs": [],
   "source": [
    "def get_response_json(first_page, last_page, rescraping=False):\n",
    "    config = load_config()\n",
    "    url = config[\"url\"]\n",
    "    headers = config[\"headers\"]\n",
    "    payload_template = config[\"payload_template\"]\n",
    "\n",
    "    for page in range(first_page, last_page + 1):\n",
    "        # Update payload with the current page number\n",
    "        payload = payload_template.copy()\n",
    "        payload[\"pagination\"][\"page\"] = page\n",
    "        payload = json.dumps(payload)\n",
    "\n",
    "        response = requests.post(url, headers=headers, data=payload)\n",
    "\n",
    "        if response.status_code != 200:\n",
    "            print(f\"Page {page} had an issue. Status code: {response.status_code}\")\n",
    "            continue\n",
    "        else:\n",
    "            print(f\"\\nPage: {page} | Status code: {response.status_code}\\n\")\n",
    "\n",
    "        re = 're' if rescraping else ''\n",
    "        with open(f'./01_{re}scraping_json_files/page_{page}.json', 'w') as fp:\n",
    "            json.dump(response.json()['items'], fp)\n",
    "\n",
    "        delay = random.uniform(3, 5)\n",
    "        print(f\"Waiting {delay:.2f} seconds before the next request.\")\n",
    "        time.sleep(delay)\n",
    "\n",
    "    return \"script completed\""
   ]
  },
  {
   "cell_type": "code",
   "execution_count": null,
   "metadata": {},
   "outputs": [],
   "source": [
    "# get_response_json(1, 10000,rescraping=False)"
   ]
  }
 ],
 "metadata": {
  "kernelspec": {
   "display_name": ".venv",
   "language": "python",
   "name": "python3"
  },
  "language_info": {
   "codemirror_mode": {
    "name": "ipython",
    "version": 3
   },
   "file_extension": ".py",
   "mimetype": "text/x-python",
   "name": "python",
   "nbconvert_exporter": "python",
   "pygments_lexer": "ipython3",
   "version": "3.12.4"
  }
 },
 "nbformat": 4,
 "nbformat_minor": 2
}
