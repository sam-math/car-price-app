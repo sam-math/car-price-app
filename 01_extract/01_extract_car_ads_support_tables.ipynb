{
 "cells": [
  {
   "cell_type": "code",
   "execution_count": 1,
   "metadata": {},
   "outputs": [],
   "source": [
    "import pandas as pd\n",
    "import requests\n",
    "import json\n",
    "import time\n",
    "import random\n",
    "from pathlib import Path"
   ]
  },
  {
   "cell_type": "code",
   "execution_count": 2,
   "metadata": {},
   "outputs": [],
   "source": [
    "def load_config():\n",
    "    config_path = Path('config_extract_support_tables.json')\n",
    "    if config_path.exists():\n",
    "        with open(config_path) as f:\n",
    "            return json.load(f)\n",
    "    else:\n",
    "        raise FileNotFoundError(\"Config file not found. Ensure a config.json is present and correctly configured.\")"
   ]
  },
  {
   "cell_type": "code",
   "execution_count": 3,
   "metadata": {},
   "outputs": [],
   "source": [
    "def get_brand_model_names(car_brand_ids):\n",
    "    config = load_config()\n",
    "    url_template = config[\"url_template\"]\n",
    "    headers = config[\"headers\"]\n",
    "\n",
    "    for brand in car_brand_ids:\n",
    "        # Format URL with the brand id\n",
    "        url = url_template.format(brand=brand)\n",
    "        \n",
    "        response = requests.get(url, headers=headers)\n",
    "\n",
    "        if response.status_code == 200:  # Check if the request was successful\n",
    "            print(f\"Brand id: {brand} | Status code: {response.status_code}\\n\")\n",
    "            with open(f'01_brand_models_json_files/brandId_{brand}.json', 'w') as fp:\n",
    "                json.dump(response.json()['items'], fp)\n",
    "        else:\n",
    "            print(f\"Brand id {brand} had an issue. Status code: {response.status_code}\")\n",
    "\n",
    "        delay = random.uniform(3, 5)\n",
    "        print(f\"Waiting {delay:.2f} seconds before the next request.\")\n",
    "        time.sleep(delay)\n",
    "\n",
    "    return \"All requests completed\""
   ]
  },
  {
   "cell_type": "code",
   "execution_count": 4,
   "metadata": {},
   "outputs": [],
   "source": [
    "makers_df = pd.read_csv('./01_brand_models_json_files/brands.csv')"
   ]
  },
  {
   "cell_type": "code",
   "execution_count": null,
   "metadata": {},
   "outputs": [],
   "source": [
    "# get_brand_model_names(car_brand_ids=makers_df['id'].values)"
   ]
  },
  {
   "cell_type": "code",
   "execution_count": 52,
   "metadata": {},
   "outputs": [],
   "source": [
    "for brand in makers_df['id'].values:\n",
    "\n",
    "    if brand == 1:\n",
    "        all_brands_df = pd.read_json(f'./01_brand_models_json_files/brandId_{brand}.json')\n",
    "        all_brands_df['brandId'] = brand\n",
    "    else:\n",
    "        temp_df = pd.read_json(f'./01_brand_models_json_files/brandId_{brand}.json')\n",
    "        temp_df['brandId'] = brand\n",
    "        all_brands_df = pd.concat([all_brands_df, temp_df])     "
   ]
  },
  {
   "cell_type": "code",
   "execution_count": 55,
   "metadata": {},
   "outputs": [],
   "source": [
    "all_brands_df['modelId'] = all_brands_df['modelId'].astype(int)"
   ]
  },
  {
   "cell_type": "code",
   "execution_count": 73,
   "metadata": {},
   "outputs": [],
   "source": [
    "df_brand_models = all_brands_df.merge(makers_df, left_on='brandId', right_on='id', how='left')"
   ]
  },
  {
   "cell_type": "code",
   "execution_count": 86,
   "metadata": {},
   "outputs": [],
   "source": [
    "df_brand_models = (df_brand_models\n",
    "    # .drop('id', axis=1)\n",
    "    .rename({'label':'brand', 'name':'model', 'brandId':'brand_id', 'modelId':'model_id'}, axis=1))"
   ]
  },
  {
   "cell_type": "code",
   "execution_count": 79,
   "metadata": {},
   "outputs": [],
   "source": [
    "df_brand_models['model'] = df_brand_models['model'].str.lower()"
   ]
  },
  {
   "cell_type": "code",
   "execution_count": 80,
   "metadata": {},
   "outputs": [],
   "source": [
    "df_brand_models['brand'] = df_brand_models['brand'].str.lower()"
   ]
  },
  {
   "cell_type": "code",
   "execution_count": 88,
   "metadata": {},
   "outputs": [],
   "source": [
    "df_brand_models.to_csv('../02_load/brand_models.csv', index=False) "
   ]
  },
  {
   "cell_type": "code",
   "execution_count": 6,
   "metadata": {},
   "outputs": [],
   "source": [
    "df_brand_models = pd.read_csv('../02_load/brand_models.csv')"
   ]
  }
 ],
 "metadata": {
  "kernelspec": {
   "display_name": "venv",
   "language": "python",
   "name": "python3"
  },
  "language_info": {
   "codemirror_mode": {
    "name": "ipython",
    "version": 3
   },
   "file_extension": ".py",
   "mimetype": "text/x-python",
   "name": "python",
   "nbconvert_exporter": "python",
   "pygments_lexer": "ipython3",
   "version": "3.12.4"
  }
 },
 "nbformat": 4,
 "nbformat_minor": 2
}
