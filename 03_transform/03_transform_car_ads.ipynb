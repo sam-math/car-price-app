{
 "cells": [
  {
   "cell_type": "code",
   "execution_count": 2,
   "metadata": {},
   "outputs": [],
   "source": [
    "import polars as pl\n",
    "\n",
    "from config import (COLS_TO_SELECT, COLS_ORDERED, LOCATION_COL, SELLER_PROFESSIONAL, GEARBOX_ID, AD_TYPE, CAR_BODY, COLS_TRANSFORMED, COLS_RENAME_DICT, CAR_BODY_DICT)"
   ]
  },
  {
   "cell_type": "code",
   "execution_count": 3,
   "metadata": {},
   "outputs": [
    {
     "data": {
      "text/plain": [
       "polars.config.Config"
      ]
     },
     "execution_count": 3,
     "metadata": {},
     "output_type": "execute_result"
    }
   ],
   "source": [
    "pl.Config.set_fmt_str_lengths(40)\n",
    "pl.Config.set_tbl_rows(20)"
   ]
  },
  {
   "cell_type": "code",
   "execution_count": 4,
   "metadata": {},
   "outputs": [],
   "source": [
    "df = pl.read_parquet('../02_load/car_ads_load.parquet')"
   ]
  },
  {
   "cell_type": "code",
   "execution_count": 5,
   "metadata": {},
   "outputs": [
    {
     "data": {
      "text/plain": [
       "(185418, 21)"
      ]
     },
     "execution_count": 5,
     "metadata": {},
     "output_type": "execute_result"
    }
   ],
   "source": [
    "df.shape"
   ]
  },
  {
   "cell_type": "code",
   "execution_count": 6,
   "metadata": {},
   "outputs": [
    {
     "data": {
      "text/html": [
       "<div><style>\n",
       ".dataframe > thead > tr,\n",
       ".dataframe > tbody > tr {\n",
       "  text-align: right;\n",
       "  white-space: pre-wrap;\n",
       "}\n",
       "</style>\n",
       "<small>shape: (5, 10)</small><table border=\"1\" class=\"dataframe\"><thead><tr><th>seller_name</th><th>id</th><th>title</th><th>len</th><th>min_price</th><th>max_price</th><th>min_km</th><th>max_km</th><th>km_diff</th><th>price_diff</th></tr><tr><td>u64</td><td>u64</td><td>u64</td><td>u32</td><td>i64</td><td>i64</td><td>i64</td><td>i64</td><td>i64</td><td>i64</td></tr></thead><tbody><tr><td>18061391965307345239</td><td>12568132951389192755</td><td>16348551259640286522</td><td>2</td><td>35790</td><td>35990</td><td>19632</td><td>52219</td><td>32587</td><td>200</td></tr><tr><td>17832316939368330321</td><td>14988602387834855962</td><td>14529253179343365493</td><td>2</td><td>14500</td><td>14700</td><td>137000</td><td>139000</td><td>2000</td><td>200</td></tr><tr><td>17696703690871970547</td><td>10806452780687109007</td><td>15099564523844778274</td><td>2</td><td>18500</td><td>19000</td><td>168000</td><td>169000</td><td>1000</td><td>500</td></tr><tr><td>17696703690871970547</td><td>12894711516793685280</td><td>13167333921448933609</td><td>2</td><td>18500</td><td>19000</td><td>168000</td><td>169000</td><td>1000</td><td>500</td></tr><tr><td>17350074703501238312</td><td>4772691319298227880</td><td>13846742274461279224</td><td>2</td><td>11990</td><td>12000</td><td>240000</td><td>242000</td><td>2000</td><td>10</td></tr></tbody></table></div>"
      ],
      "text/plain": [
       "shape: (5, 10)\n",
       "┌───────────────┬───────────────┬───────────────┬─────┬───┬────────┬────────┬─────────┬────────────┐\n",
       "│ seller_name   ┆ id            ┆ title         ┆ len ┆ … ┆ min_km ┆ max_km ┆ km_diff ┆ price_diff │\n",
       "│ ---           ┆ ---           ┆ ---           ┆ --- ┆   ┆ ---    ┆ ---    ┆ ---     ┆ ---        │\n",
       "│ u64           ┆ u64           ┆ u64           ┆ u32 ┆   ┆ i64    ┆ i64    ┆ i64     ┆ i64        │\n",
       "╞═══════════════╪═══════════════╪═══════════════╪═════╪═══╪════════╪════════╪═════════╪════════════╡\n",
       "│ 1806139196530 ┆ 1256813295138 ┆ 1634855125964 ┆ 2   ┆ … ┆ 19632  ┆ 52219  ┆ 32587   ┆ 200        │\n",
       "│ 7345239       ┆ 9192755       ┆ 0286522       ┆     ┆   ┆        ┆        ┆         ┆            │\n",
       "│ 1783231693936 ┆ 1498860238783 ┆ 1452925317934 ┆ 2   ┆ … ┆ 137000 ┆ 139000 ┆ 2000    ┆ 200        │\n",
       "│ 8330321       ┆ 4855962       ┆ 3365493       ┆     ┆   ┆        ┆        ┆         ┆            │\n",
       "│ 1769670369087 ┆ 1080645278068 ┆ 1509956452384 ┆ 2   ┆ … ┆ 168000 ┆ 169000 ┆ 1000    ┆ 500        │\n",
       "│ 1970547       ┆ 7109007       ┆ 4778274       ┆     ┆   ┆        ┆        ┆         ┆            │\n",
       "│ 1769670369087 ┆ 1289471151679 ┆ 1316733392144 ┆ 2   ┆ … ┆ 168000 ┆ 169000 ┆ 1000    ┆ 500        │\n",
       "│ 1970547       ┆ 3685280       ┆ 8933609       ┆     ┆   ┆        ┆        ┆         ┆            │\n",
       "│ 1735007470350 ┆ 4772691319298 ┆ 1384674227446 ┆ 2   ┆ … ┆ 240000 ┆ 242000 ┆ 2000    ┆ 10         │\n",
       "│ 1238312       ┆ 227880        ┆ 1279224       ┆     ┆   ┆        ┆        ┆         ┆            │\n",
       "└───────────────┴───────────────┴───────────────┴─────┴───┴────────┴────────┴─────────┴────────────┘"
      ]
     },
     "execution_count": 6,
     "metadata": {},
     "output_type": "execute_result"
    }
   ],
   "source": [
    "# There are 37 cars for which the ad price was adjusted AND the MILEAGE was different. \n",
    "# This raise alarms about potentially trying to artificially adjust mileage:\n",
    "(\n",
    "    df\n",
    "    .with_columns(pl.col('id','seller_name','title').hash())\n",
    "    .filter(pl.col('id').is_duplicated())\n",
    "    .sort(by='id')\n",
    "    .group_by('seller_name','id','title')\n",
    "    .agg(pl.len(),\n",
    "        pl.col('price_amount').min().alias('min_price'),\n",
    "         pl.col('price_amount').max().alias('max_price'),\n",
    "         pl.col('km').min().alias('min_km'),\n",
    "         pl.col('km').max().alias('max_km'),\n",
    "         ((pl.col('km').max().alias('max_km') - pl.col('km').min().alias('min_km')).alias('km_diff')),\n",
    "         (pl.col('price_amount').max().alias('max_price') - pl.col('price_amount').min().alias('min_price')).alias('price_diff'))\n",
    "    .sort(by='seller_name', descending=True)\n",
    "    .filter(pl.col('km_diff') > 0)\n",
    ").head(5)"
   ]
  },
  {
   "cell_type": "code",
   "execution_count": 7,
   "metadata": {},
   "outputs": [],
   "source": [
    "df = (\n",
    "    df\n",
    "    .select(\n",
    "        COLS_TO_SELECT\n",
    "    )\n",
    ")"
   ]
  },
  {
   "cell_type": "code",
   "execution_count": 8,
   "metadata": {},
   "outputs": [
    {
     "data": {
      "text/plain": [
       "183"
      ]
     },
     "execution_count": 8,
     "metadata": {},
     "output_type": "execute_result"
    }
   ],
   "source": [
    "# How many cars don't have modelId or km:\n",
    "(\n",
    "    df\n",
    "    .filter(\n",
    "        (pl.col('modelId').is_null()) |\n",
    "        (pl.col('km').is_null()) |\n",
    "        (pl.col('year').is_null())\n",
    "    )\n",
    ").__len__()"
   ]
  },
  {
   "cell_type": "code",
   "execution_count": 9,
   "metadata": {},
   "outputs": [],
   "source": [
    "# We filter out cars without modelId, km or year as they represent merely 0.1% of the whole dataset.\n",
    "df = (\n",
    "    df\n",
    "    .filter(\n",
    "        (~pl.col('modelId').is_null()),\n",
    "        (~pl.col('km').is_null()),\n",
    "        (~pl.col('year').is_null())\n",
    "    )\n",
    ")"
   ]
  },
  {
   "cell_type": "code",
   "execution_count": 10,
   "metadata": {},
   "outputs": [
    {
     "data": {
      "text/plain": [
       "910"
      ]
     },
     "execution_count": 10,
     "metadata": {},
     "output_type": "execute_result"
    }
   ],
   "source": [
    "# How many cars don't have fuelType:\n",
    "sum(df['fuelType'].is_null())"
   ]
  },
  {
   "cell_type": "code",
   "execution_count": 11,
   "metadata": {},
   "outputs": [
    {
     "data": {
      "text/plain": [
       "734"
      ]
     },
     "execution_count": 11,
     "metadata": {},
     "output_type": "execute_result"
    }
   ],
   "source": [
    "# We can infer the fuel type for the missing values from the url:\n",
    "sum(df.filter((pl.col('fuelType').is_null()))['url'].str.contains('hibrido'))"
   ]
  },
  {
   "cell_type": "code",
   "execution_count": 12,
   "metadata": {},
   "outputs": [
    {
     "data": {
      "text/plain": [
       "176"
      ]
     },
     "execution_count": 12,
     "metadata": {},
     "output_type": "execute_result"
    }
   ],
   "source": [
    "sum(df.filter((pl.col('fuelType').is_null()))['url'].str.contains('otros'))"
   ]
  },
  {
   "cell_type": "code",
   "execution_count": 13,
   "metadata": {},
   "outputs": [],
   "source": [
    "# We update the missing fuelType values. \n",
    "# In the case of 'otros'(other) we'll use Gasoline as is the 2nd most fuelType\n",
    "# and observing the models is a better choice than Diesel.\n",
    "# As well we adjust one value from Diesel to Diésel. \n",
    "df = (\n",
    "    df\n",
    "    .with_columns(\n",
    "        pl.when(pl.col('fuelType').is_null() & pl.col('url').str.contains('hibrido'))\n",
    "        .then(pl.lit('Híbrido'))\n",
    "        .when(pl.col('fuelType').is_null() & pl.col('url').str.contains('otros'))\n",
    "        .then(pl.lit('Gasolina'))\n",
    "        .when(pl.col('fuelType') == 'Diesel')\n",
    "        .then(pl.lit('Diésel'))\n",
    "        .otherwise(pl.col('fuelType'))\n",
    "        .alias('fuelType')\n",
    "    )\n",
    ")"
   ]
  },
  {
   "cell_type": "code",
   "execution_count": 14,
   "metadata": {},
   "outputs": [
    {
     "data": {
      "text/html": [
       "<div><style>\n",
       ".dataframe > thead > tr,\n",
       ".dataframe > tbody > tr {\n",
       "  text-align: right;\n",
       "  white-space: pre-wrap;\n",
       "}\n",
       "</style>\n",
       "<small>shape: (7, 2)</small><table border=\"1\" class=\"dataframe\"><thead><tr><th>fuelType</th><th>count</th></tr><tr><td>str</td><td>u32</td></tr></thead><tbody><tr><td>&quot;Diésel&quot;</td><td>90266</td></tr><tr><td>&quot;Gasolina&quot;</td><td>68510</td></tr><tr><td>&quot;Híbrido&quot;</td><td>15705</td></tr><tr><td>&quot;Híbrido enchufable&quot;</td><td>6054</td></tr><tr><td>&quot;Eléctrico&quot;</td><td>3863</td></tr><tr><td>&quot;Gas licuado (GLP)&quot;</td><td>664</td></tr><tr><td>&quot;Gas natural (CNG)&quot;</td><td>173</td></tr></tbody></table></div>"
      ],
      "text/plain": [
       "shape: (7, 2)\n",
       "┌────────────────────┬───────┐\n",
       "│ fuelType           ┆ count │\n",
       "│ ---                ┆ ---   │\n",
       "│ str                ┆ u32   │\n",
       "╞════════════════════╪═══════╡\n",
       "│ Diésel             ┆ 90266 │\n",
       "│ Gasolina           ┆ 68510 │\n",
       "│ Híbrido            ┆ 15705 │\n",
       "│ Híbrido enchufable ┆ 6054  │\n",
       "│ Eléctrico          ┆ 3863  │\n",
       "│ Gas licuado (GLP)  ┆ 664   │\n",
       "│ Gas natural (CNG)  ┆ 173   │\n",
       "└────────────────────┴───────┘"
      ]
     },
     "execution_count": 14,
     "metadata": {},
     "output_type": "execute_result"
    }
   ],
   "source": [
    "df['fuelType'].value_counts(sort=True)"
   ]
  },
  {
   "cell_type": "code",
   "execution_count": 15,
   "metadata": {},
   "outputs": [],
   "source": [
    "# As there are only 12 rows with missing location province we update it to 'Madrid' as this is by far the most common province:\n",
    "df = (\n",
    "    df\n",
    "    .with_columns(\n",
    "        pl.when(pl.col(LOCATION_COL).is_null())\n",
    "            .then(pl.lit(\"Madrid\"))\n",
    "            .otherwise(pl.col(LOCATION_COL))\n",
    "            .alias(LOCATION_COL)\n",
    "    )\n",
    ")"
   ]
  },
  {
   "cell_type": "code",
   "execution_count": 16,
   "metadata": {},
   "outputs": [
    {
     "data": {
      "text/html": [
       "<div><style>\n",
       ".dataframe > thead > tr,\n",
       ".dataframe > tbody > tr {\n",
       "  text-align: right;\n",
       "  white-space: pre-wrap;\n",
       "}\n",
       "</style>\n",
       "<small>shape: (2, 2)</small><table border=\"1\" class=\"dataframe\"><thead><tr><th>seller_isProfessional</th><th>proportion</th></tr><tr><td>bool</td><td>f64</td></tr></thead><tbody><tr><td>true</td><td>0.614009</td></tr><tr><td>false</td><td>0.385991</td></tr></tbody></table></div>"
      ],
      "text/plain": [
       "shape: (2, 2)\n",
       "┌───────────────────────┬────────────┐\n",
       "│ seller_isProfessional ┆ proportion │\n",
       "│ ---                   ┆ ---        │\n",
       "│ bool                  ┆ f64        │\n",
       "╞═══════════════════════╪════════════╡\n",
       "│ true                  ┆ 0.614009   │\n",
       "│ false                 ┆ 0.385991   │\n",
       "└───────────────────────┴────────────┘"
      ]
     },
     "execution_count": 16,
     "metadata": {},
     "output_type": "execute_result"
    }
   ],
   "source": [
    "df[SELLER_PROFESSIONAL].value_counts(sort=True, normalize=True)"
   ]
  },
  {
   "cell_type": "code",
   "execution_count": 17,
   "metadata": {},
   "outputs": [
    {
     "data": {
      "text/html": [
       "<div><style>\n",
       ".dataframe > thead > tr,\n",
       ".dataframe > tbody > tr {\n",
       "  text-align: right;\n",
       "  white-space: pre-wrap;\n",
       "}\n",
       "</style>\n",
       "<small>shape: (2, 2)</small><table border=\"1\" class=\"dataframe\"><thead><tr><th>offerType_literal</th><th>proportion</th></tr><tr><td>str</td><td>f64</td></tr></thead><tbody><tr><td>&quot;Ocasión&quot;</td><td>0.980814</td></tr><tr><td>&quot;Km0&quot;</td><td>0.015942</td></tr></tbody></table></div>"
      ],
      "text/plain": [
       "shape: (2, 2)\n",
       "┌───────────────────┬────────────┐\n",
       "│ offerType_literal ┆ proportion │\n",
       "│ ---               ┆ ---        │\n",
       "│ str               ┆ f64        │\n",
       "╞═══════════════════╪════════════╡\n",
       "│ Ocasión           ┆ 0.980814   │\n",
       "│ Km0               ┆ 0.015942   │\n",
       "└───────────────────┴────────────┘"
      ]
     },
     "execution_count": 17,
     "metadata": {},
     "output_type": "execute_result"
    }
   ],
   "source": [
    "df[AD_TYPE].value_counts(sort=True, normalize=True).head(2)"
   ]
  },
  {
   "cell_type": "code",
   "execution_count": 18,
   "metadata": {},
   "outputs": [
    {
     "data": {
      "text/plain": [
       "(12, 2)"
      ]
     },
     "execution_count": 18,
     "metadata": {},
     "output_type": "execute_result"
    }
   ],
   "source": [
    "# The missing values of the bodyTypeId column can't be clearly inferred by grouping the modelId\n",
    "#  and taking the median so we'll ignore it for the moment:\n",
    "(\n",
    "    df\n",
    "    .group_by('modelId')\n",
    "    .agg(pl.col(CAR_BODY).median())\n",
    ")[CAR_BODY].value_counts(sort=True).shape"
   ]
  },
  {
   "cell_type": "code",
   "execution_count": 19,
   "metadata": {},
   "outputs": [],
   "source": [
    "# Convert the 'creationDate' column to a datetime type\n",
    "df = df.with_columns(\n",
    "    pl.col(\"creationDate\").str.strptime(pl.Datetime, format=\"%Y-%m-%dT%H:%M:%SZ\"),\n",
    "    pl.col(\"publishedDate\").str.strptime(pl.Datetime, format=\"%Y-%m-%dT%H:%M:%SZ\"))\n"
   ]
  },
  {
   "cell_type": "code",
   "execution_count": 20,
   "metadata": {},
   "outputs": [],
   "source": [
    "# # Define the specific date as a datetime object\n",
    "specific_date = pl.date(2024, 9, 4)\n",
    "\n",
    "# # Calculate the difference in days\n",
    "df = df.with_columns(\n",
    "    (specific_date - pl.col(\"creationDate\").dt.date()).dt.total_days().alias('ad_days_creation'),\n",
    "    (specific_date - pl.col(\"publishedDate\").dt.date()).dt.total_days().alias('ad_days_published'))"
   ]
  },
  {
   "cell_type": "code",
   "execution_count": 21,
   "metadata": {},
   "outputs": [
    {
     "data": {
      "text/plain": [
       "58963"
      ]
     },
     "execution_count": 21,
     "metadata": {},
     "output_type": "execute_result"
    }
   ],
   "source": [
    "# We'll later choose ad_days_creation as in case it differs from published, creation date is earlier (in most cases).\n",
    "\n",
    "(\n",
    "    df\n",
    "    .filter(\n",
    "        pl.col('ad_days_creation') != pl.col('ad_days_published'),\n",
    "        pl.col('creationDate') < pl.col('publishedDate')\n",
    "    )\n",
    ").shape[0]"
   ]
  },
  {
   "cell_type": "code",
   "execution_count": 22,
   "metadata": {},
   "outputs": [],
   "source": [
    "brand_models_df = pl.read_csv('../02_load/brand_models.csv')"
   ]
  },
  {
   "cell_type": "code",
   "execution_count": 23,
   "metadata": {},
   "outputs": [],
   "source": [
    "df = (df\n",
    "    .join(brand_models_df,\n",
    "            left_on= ['makeId', 'modelId'],\n",
    "            right_on=['brand_id', 'model_id'],\n",
    "            how='left')\n",
    "    )"
   ]
  },
  {
   "cell_type": "code",
   "execution_count": 24,
   "metadata": {},
   "outputs": [],
   "source": [
    "df = (\n",
    "    df.with_columns(\n",
    "        pl.col('brand','model').str.to_lowercase()\n",
    "    )\n",
    ")"
   ]
  },
  {
   "cell_type": "code",
   "execution_count": 25,
   "metadata": {},
   "outputs": [
    {
     "data": {
      "text/plain": [
       "(2, 2)"
      ]
     },
     "execution_count": 25,
     "metadata": {},
     "output_type": "execute_result"
    }
   ],
   "source": [
    "# There are some brands that still have models without name:\n",
    "(\n",
    "    df\n",
    "    .filter(pl.col('brand').is_null())\n",
    ")['makeId'].value_counts(sort=True).shape"
   ]
  },
  {
   "cell_type": "code",
   "execution_count": 26,
   "metadata": {},
   "outputs": [
    {
     "data": {
      "text/plain": [
       "(2, 3)"
      ]
     },
     "execution_count": 26,
     "metadata": {},
     "output_type": "execute_result"
    }
   ],
   "source": [
    "# There are only 2 items without brand. Those ads are not relevant (one is not even about a car)\n",
    "(df\n",
    "    .filter(pl.col('model').is_null())\n",
    "    ).unique(subset='modelId')[['makeId','modelId','title']].sort(by='title').shape"
   ]
  },
  {
   "cell_type": "code",
   "execution_count": 27,
   "metadata": {},
   "outputs": [],
   "source": [
    "# We filter out the few items (2 items) without brand as they are not relevant car ads:\n",
    "df = (\n",
    "    df\n",
    "    .filter(~pl.col('brand').is_null())\n",
    ")"
   ]
  },
  {
   "cell_type": "code",
   "execution_count": 28,
   "metadata": {},
   "outputs": [],
   "source": [
    "df = (\n",
    "    df\n",
    "    .select(\n",
    "        COLS_ORDERED\n",
    "    )\n",
    ")"
   ]
  },
  {
   "cell_type": "code",
   "execution_count": 29,
   "metadata": {},
   "outputs": [],
   "source": [
    "# We create an 'age_years' column so that we can interpret how car prices changes based on how old is it:\n",
    "df = (\n",
    "    df\n",
    "    .with_columns(\n",
    "        (pl.lit(2024) - pl.col('year')).alias('age_years')\n",
    "    )\n",
    ")"
   ]
  },
  {
   "cell_type": "code",
   "execution_count": 30,
   "metadata": {},
   "outputs": [],
   "source": [
    "# df.describe()"
   ]
  },
  {
   "cell_type": "code",
   "execution_count": 31,
   "metadata": {},
   "outputs": [],
   "source": [
    "df_transform = (\n",
    "    df\n",
    "    .select(\n",
    "        COLS_TRANSFORMED\n",
    "    )\n",
    ")"
   ]
  },
  {
   "cell_type": "code",
   "execution_count": 32,
   "metadata": {},
   "outputs": [],
   "source": [
    "df_transform = (\n",
    "    df_transform\n",
    "    .with_columns(\n",
    "        pl.col(pl.Int64).cast(pl.Int32),\n",
    "        pl.col(pl.Utf8).str.to_lowercase().str.replace_many(['á','é',\"í\",\"ó\",\"ú\"], ['a','e','i','o','u'])\n",
    "    ))"
   ]
  },
  {
   "cell_type": "code",
   "execution_count": 33,
   "metadata": {},
   "outputs": [],
   "source": [
    "df_transform = (\n",
    "    df_transform\n",
    "    .with_columns(pl.col(GEARBOX_ID) == 1)\n",
    "    .rename(COLS_RENAME_DICT)\n",
    ")"
   ]
  },
  {
   "cell_type": "markdown",
   "metadata": {},
   "source": [
    "## Car Body Type preprocessing:"
   ]
  },
  {
   "cell_type": "code",
   "execution_count": 34,
   "metadata": {},
   "outputs": [],
   "source": [
    "brand_model_bodyType_map = df.group_by(['brand','model']).agg(pl.col(CAR_BODY).median().cast(int))"
   ]
  },
  {
   "cell_type": "code",
   "execution_count": 35,
   "metadata": {},
   "outputs": [],
   "source": [
    "df_transform = (df_transform\n",
    "    .join(brand_model_bodyType_map,\n",
    "            left_on= ['brand','model'],\n",
    "            right_on=['brand','model'],\n",
    "            how='left')\n",
    "    .with_columns(\n",
    "        pl.col(CAR_BODY).fill_null(pl.col('bodyTypeId_right'))\n",
    "    )\n",
    "    .drop('bodyTypeId_right')\n",
    ")"
   ]
  },
  {
   "cell_type": "code",
   "execution_count": 36,
   "metadata": {},
   "outputs": [],
   "source": [
    "df_transform = df_transform.with_columns(pl.col(CAR_BODY).cast(pl.Int32))"
   ]
  },
  {
   "cell_type": "code",
   "execution_count": 37,
   "metadata": {},
   "outputs": [],
   "source": [
    "body_type_dict = CAR_BODY_DICT\n",
    "\n",
    "body_type_dict_df = pl.DataFrame(body_type_dict, schema={CAR_BODY:pl.Int32, 'body_type':pl.Utf8})"
   ]
  },
  {
   "cell_type": "code",
   "execution_count": 38,
   "metadata": {},
   "outputs": [],
   "source": [
    "df_transform = (df_transform\n",
    "    .join(body_type_dict_df,\n",
    "            left_on= [CAR_BODY],\n",
    "            right_on=[CAR_BODY],\n",
    "            how='left')\n",
    "    )"
   ]
  },
  {
   "cell_type": "code",
   "execution_count": 40,
   "metadata": {},
   "outputs": [
    {
     "data": {
      "text/html": [
       "<div><style>\n",
       ".dataframe > thead > tr,\n",
       ".dataframe > tbody > tr {\n",
       "  text-align: right;\n",
       "  white-space: pre-wrap;\n",
       "}\n",
       "</style>\n",
       "<small>shape: (1, 14)</small><table border=\"1\" class=\"dataframe\"><thead><tr><th>price</th><th>brand</th><th>model</th><th>is_automatic</th><th>km</th><th>fuel</th><th>year</th><th>age_years</th><th>is_seller_pro</th><th>is_certified</th><th>offer_type</th><th>location</th><th>ad_days_creation</th><th>ad_days_published</th></tr><tr><td>u32</td><td>u32</td><td>u32</td><td>u32</td><td>u32</td><td>u32</td><td>u32</td><td>u32</td><td>u32</td><td>u32</td><td>u32</td><td>u32</td><td>u32</td><td>u32</td></tr></thead><tbody><tr><td>5674</td><td>96</td><td>1182</td><td>2</td><td>46808</td><td>7</td><td>55</td><td>55</td><td>2</td><td>2</td><td>5</td><td>52</td><td>75</td><td>76</td></tr></tbody></table></div>"
      ],
      "text/plain": [
       "shape: (1, 14)\n",
       "┌───────┬───────┬───────┬──────────────┬───┬────────────┬──────────┬───────────────┬───────────────┐\n",
       "│ price ┆ brand ┆ model ┆ is_automatic ┆ … ┆ offer_type ┆ location ┆ ad_days_creat ┆ ad_days_publi │\n",
       "│ ---   ┆ ---   ┆ ---   ┆ ---          ┆   ┆ ---        ┆ ---      ┆ ion           ┆ shed          │\n",
       "│ u32   ┆ u32   ┆ u32   ┆ u32          ┆   ┆ u32        ┆ u32      ┆ ---           ┆ ---           │\n",
       "│       ┆       ┆       ┆              ┆   ┆            ┆          ┆ u32           ┆ u32           │\n",
       "╞═══════╪═══════╪═══════╪══════════════╪═══╪════════════╪══════════╪═══════════════╪═══════════════╡\n",
       "│ 5674  ┆ 96    ┆ 1182  ┆ 2            ┆ … ┆ 5          ┆ 52       ┆ 75            ┆ 76            │\n",
       "└───────┴───────┴───────┴──────────────┴───┴────────────┴──────────┴───────────────┴───────────────┘"
      ]
     },
     "execution_count": 40,
     "metadata": {},
     "output_type": "execute_result"
    }
   ],
   "source": [
    "# Number of unique values per column. Useful to then do analysis and create dummy variables for modelling:\n",
    "df_transform.select(df_transform.columns[:-5]).select(pl.all().n_unique())"
   ]
  },
  {
   "cell_type": "code",
   "execution_count": 41,
   "metadata": {},
   "outputs": [],
   "source": [
    "# The df is ready to be explored and analysed to understand the distributions and categories, to gain insights and prepare the car price modeling:\n",
    "df_transform.write_parquet('car_ads_transformed.parquet')"
   ]
  },
  {
   "cell_type": "code",
   "execution_count": 42,
   "metadata": {},
   "outputs": [],
   "source": [
    "df_transform = pl.read_parquet('car_ads_transformed.parquet')"
   ]
  },
  {
   "cell_type": "code",
   "execution_count": 43,
   "metadata": {},
   "outputs": [
    {
     "data": {
      "text/plain": [
       "(185233, 19)"
      ]
     },
     "execution_count": 43,
     "metadata": {},
     "output_type": "execute_result"
    }
   ],
   "source": [
    "df_transform.shape"
   ]
  },
  {
   "cell_type": "code",
   "execution_count": 45,
   "metadata": {},
   "outputs": [
    {
     "data": {
      "text/html": [
       "<div><style>\n",
       ".dataframe > thead > tr,\n",
       ".dataframe > tbody > tr {\n",
       "  text-align: right;\n",
       "  white-space: pre-wrap;\n",
       "}\n",
       "</style>\n",
       "<small>shape: (2, 14)</small><table border=\"1\" class=\"dataframe\"><thead><tr><th>price</th><th>brand</th><th>model</th><th>is_automatic</th><th>km</th><th>fuel</th><th>year</th><th>age_years</th><th>is_seller_pro</th><th>is_certified</th><th>offer_type</th><th>location</th><th>ad_days_creation</th><th>ad_days_published</th></tr><tr><td>i32</td><td>str</td><td>str</td><td>bool</td><td>i32</td><td>str</td><td>i32</td><td>i32</td><td>bool</td><td>bool</td><td>str</td><td>str</td><td>i32</td><td>i32</td></tr></thead><tbody><tr><td>12990</td><td>&quot;mini&quot;</td><td>&quot;mini&quot;</td><td>true</td><td>165399</td><td>&quot;diesel&quot;</td><td>2015</td><td>9</td><td>true</td><td>false</td><td>&quot;ocasion&quot;</td><td>&quot;madrid&quot;</td><td>0</td><td>0</td></tr><tr><td>10500</td><td>&quot;audi&quot;</td><td>&quot;a1&quot;</td><td>false</td><td>143139</td><td>&quot;diesel&quot;</td><td>2013</td><td>11</td><td>true</td><td>false</td><td>&quot;ocasion&quot;</td><td>&quot;madrid&quot;</td><td>0</td><td>0</td></tr></tbody></table></div>"
      ],
      "text/plain": [
       "shape: (2, 14)\n",
       "┌───────┬───────┬───────┬──────────────┬───┬────────────┬──────────┬───────────────┬───────────────┐\n",
       "│ price ┆ brand ┆ model ┆ is_automatic ┆ … ┆ offer_type ┆ location ┆ ad_days_creat ┆ ad_days_publi │\n",
       "│ ---   ┆ ---   ┆ ---   ┆ ---          ┆   ┆ ---        ┆ ---      ┆ ion           ┆ shed          │\n",
       "│ i32   ┆ str   ┆ str   ┆ bool         ┆   ┆ str        ┆ str      ┆ ---           ┆ ---           │\n",
       "│       ┆       ┆       ┆              ┆   ┆            ┆          ┆ i32           ┆ i32           │\n",
       "╞═══════╪═══════╪═══════╪══════════════╪═══╪════════════╪══════════╪═══════════════╪═══════════════╡\n",
       "│ 12990 ┆ mini  ┆ mini  ┆ true         ┆ … ┆ ocasion    ┆ madrid   ┆ 0             ┆ 0             │\n",
       "│ 10500 ┆ audi  ┆ a1    ┆ false        ┆ … ┆ ocasion    ┆ madrid   ┆ 0             ┆ 0             │\n",
       "└───────┴───────┴───────┴──────────────┴───┴────────────┴──────────┴───────────────┴───────────────┘"
      ]
     },
     "execution_count": 45,
     "metadata": {},
     "output_type": "execute_result"
    }
   ],
   "source": [
    "df_transform.select(df_transform.columns[:-5]).head(2)"
   ]
  },
  {
   "cell_type": "code",
   "execution_count": null,
   "metadata": {},
   "outputs": [],
   "source": []
  }
 ],
 "metadata": {
  "kernelspec": {
   "display_name": "venv",
   "language": "python",
   "name": "python3"
  },
  "language_info": {
   "codemirror_mode": {
    "name": "ipython",
    "version": 3
   },
   "file_extension": ".py",
   "mimetype": "text/x-python",
   "name": "python",
   "nbconvert_exporter": "python",
   "pygments_lexer": "ipython3",
   "version": "3.12.4"
  }
 },
 "nbformat": 4,
 "nbformat_minor": 2
}
