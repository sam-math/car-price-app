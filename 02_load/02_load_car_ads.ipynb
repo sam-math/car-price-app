{
 "cells": [
  {
   "cell_type": "code",
   "execution_count": 1,
   "metadata": {},
   "outputs": [],
   "source": [
    "import polars as pl\n",
    "import os\n",
    "\n",
    "from config import COLS_TO_FLATTEN, COLS_TO_SELECT"
   ]
  },
  {
   "cell_type": "code",
   "execution_count": 2,
   "metadata": {},
   "outputs": [],
   "source": [
    "def get_flatten_df(original_df):\n",
    "    \n",
    "    df = original_df\n",
    "    cols = original_df.columns\n",
    "    cols_in_df = []\n",
    "    \n",
    "    for col in COLS_TO_FLATTEN:\n",
    "        if col in cols:\n",
    "            df = df.with_columns(pl.col(col).name.map_fields(lambda x: f\"{col}_{x}\"))\n",
    "            cols_in_df.append(col)\n",
    "    \n",
    "    df = df.unnest(cols_in_df)\n",
    "        \n",
    "    return df"
   ]
  },
  {
   "cell_type": "code",
   "execution_count": 3,
   "metadata": {},
   "outputs": [],
   "source": [
    "def get_selected_cols_df(flatten_df,page):\n",
    "    \n",
    "    cols_flatten_df = set(flatten_df.columns)\n",
    "\n",
    "    cols_missing = set(COLS_TO_SELECT) - cols_flatten_df\n",
    "\n",
    "    if len(cols_missing):\n",
    "        print(f\"The df page {page} is missing the following columns: {cols_missing}\")\n",
    "\n",
    "    selected_cols_df = flatten_df.select(COLS_TO_SELECT)\n",
    "\n",
    "    return selected_cols_df "
   ]
  },
  {
   "cell_type": "code",
   "execution_count": 4,
   "metadata": {},
   "outputs": [],
   "source": [
    "def get_df_all_pages(path):\n",
    "    \n",
    "    json_files = [f for f in os.listdir(f\"./{path}\") if f.endswith('.json')]\n",
    "    last_page = len(json_files)\n",
    "    print(f'Combining {last_page} json files')\n",
    "\n",
    "    for page in range(1, last_page+1):\n",
    "        original_df = pl.read_json(f'./{path}/page_{page}.json')\n",
    "        if 'km'  not in original_df.columns:\n",
    "            original_df = original_df.with_columns(pl.lit(0).alias('km').cast(pl.Int32))\n",
    "        flatten_df = get_flatten_df(original_df)\n",
    "        df = get_selected_cols_df(flatten_df, page)\n",
    "\n",
    "        if page == 1:\n",
    "            df_all = df\n",
    "        else:\n",
    "            df_all = pl.concat([df_all, df])\n",
    "    return df_all\n"
   ]
  },
  {
   "cell_type": "code",
   "execution_count": 5,
   "metadata": {},
   "outputs": [
    {
     "name": "stdout",
     "output_type": "stream",
     "text": [
      "Combining 8441 json files\n"
     ]
    }
   ],
   "source": [
    "df_all_scraped = get_df_all_pages('../01_extract/01_scraping_json_files') "
   ]
  },
  {
   "cell_type": "code",
   "execution_count": 6,
   "metadata": {},
   "outputs": [],
   "source": [
    "df_all_scraped = df_all_scraped.unique(('id', 'price_amount'), keep='first', maintain_order=True)"
   ]
  },
  {
   "cell_type": "code",
   "execution_count": 7,
   "metadata": {},
   "outputs": [
    {
     "name": "stdout",
     "output_type": "stream",
     "text": [
      "Combining 1504 json files\n"
     ]
    }
   ],
   "source": [
    "df_all_rescraped = get_df_all_pages('../01_extract/01_rescraping_json_files')"
   ]
  },
  {
   "cell_type": "code",
   "execution_count": 8,
   "metadata": {},
   "outputs": [],
   "source": [
    "df_all_rescraped = df_all_rescraped.unique(('id', 'price_amount'), keep='first', maintain_order=True)"
   ]
  },
  {
   "cell_type": "code",
   "execution_count": 9,
   "metadata": {},
   "outputs": [
    {
     "name": "stdout",
     "output_type": "stream",
     "text": [
      "Combining 260 json files\n"
     ]
    }
   ],
   "source": [
    "df_all_new = get_df_all_pages('../01_extract/01_new_car_scraping_json_files')"
   ]
  },
  {
   "cell_type": "code",
   "execution_count": 10,
   "metadata": {},
   "outputs": [],
   "source": [
    "df_all_new = df_all_new.unique(('id', 'price_amount'), keep='first', maintain_order=True)"
   ]
  },
  {
   "cell_type": "code",
   "execution_count": 18,
   "metadata": {},
   "outputs": [],
   "source": [
    "df_all_new = df_all_new.with_columns(pl.col(pl.Int32).cast(pl.Int64))"
   ]
  },
  {
   "cell_type": "code",
   "execution_count": 19,
   "metadata": {},
   "outputs": [],
   "source": [
    "df_load = pl.concat([df_all_rescraped, df_all_scraped])"
   ]
  },
  {
   "cell_type": "code",
   "execution_count": 20,
   "metadata": {},
   "outputs": [],
   "source": [
    "df_load = pl.concat([df_load, df_all_new])"
   ]
  },
  {
   "cell_type": "code",
   "execution_count": 21,
   "metadata": {},
   "outputs": [],
   "source": [
    "df_load = df_load.unique(('id', 'price_amount'), keep='first', maintain_order=True)"
   ]
  },
  {
   "cell_type": "code",
   "execution_count": 24,
   "metadata": {},
   "outputs": [],
   "source": [
    "# df_load.write_parquet('car_ads_load.parquet')"
   ]
  },
  {
   "cell_type": "code",
   "execution_count": null,
   "metadata": {},
   "outputs": [],
   "source": []
  }
 ],
 "metadata": {
  "kernelspec": {
   "display_name": ".venv",
   "language": "python",
   "name": "python3"
  },
  "language_info": {
   "codemirror_mode": {
    "name": "ipython",
    "version": 3
   },
   "file_extension": ".py",
   "mimetype": "text/x-python",
   "name": "python",
   "nbconvert_exporter": "python",
   "pygments_lexer": "ipython3",
   "version": "3.12.4"
  }
 },
 "nbformat": 4,
 "nbformat_minor": 2
}
